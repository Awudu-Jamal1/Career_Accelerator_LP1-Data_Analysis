{
 "cells": [
  {
   "cell_type": "markdown",
   "id": "9ceb774a",
   "metadata": {},
   "source": [
    "# WEEK 1 - TEAM PARIS \n"
   ]
  },
  {
   "cell_type": "markdown",
   "id": "286f4889",
   "metadata": {},
   "source": [
    "# Data Analysis Project - Indian Start-up Funding Analysis"
   ]
  },
  {
   "cell_type": "markdown",
   "id": "563f0697",
   "metadata": {},
   "source": [
    "# Project Description "
   ]
  },
  {
   "cell_type": "markdown",
   "id": "f25743a0",
   "metadata": {},
   "source": [
    "Our team is trying to venture into the Indian start-up ecosystem. As the data experts of the team we are to investigate the ecosystem and propose the best course of action. "
   ]
  },
  {
   "cell_type": "markdown",
   "id": "d1695127",
   "metadata": {},
   "source": [
    "Our task is to develop a unique story from this dataset by stating and\n",
    "testing a hypothesis, asking questions, perform analysis and share\n",
    "insights with appropriate visualisations.\n",
    "\n",
    "So as part of the project you are to:\n",
    "\n",
    "-   Ask questions\n",
    "\n",
    "-   Develop hypothesis\n",
    "\n",
    "-   Process the data\n",
    "\n",
    "-   Analyse the data\n",
    "\n",
    "-   Visualise the data"
   ]
  },
  {
   "cell_type": "markdown",
   "id": "c461a38a",
   "metadata": {},
   "source": [
    "# WEEK 1 PROJECT \n",
    "\n",
    "# Objectives \n",
    "\n",
    "### Submit title and Description of the Project\n",
    "\n",
    "### Clearly state atleast 3 hypothesis\n",
    "\n",
    "### Ask atleast 3 questions"
   ]
  },
  {
   "cell_type": "markdown",
   "id": "b72fbee0",
   "metadata": {},
   "source": [
    "## Deductions from overview of the data \n",
    "\n",
    "**DEDUCTIONS** \n",
    "1. Round/series in 2018 column is similar to Stage in the 2019/2021/2020 dataset\n",
    "\n",
    "\n",
    "2. Industry in 2018 column is similar to Sector in the 2019/2021/2020 dataset\n",
    "\n",
    "\n",
    "3. 2018_column set doesn't have 3 columns, YearFounded, Founder, Investor information \n",
    "\n",
    "\n",
    "4. 2019 dataset investors are undisclosed\n",
    "\n",
    "\n",
    "5. Location in 2018 is similar to HeadQuater in 2019-2021"
   ]
  },
  {
   "cell_type": "markdown",
   "id": "511c5e94",
   "metadata": {},
   "source": [
    "# Hypothesis "
   ]
  },
  {
   "cell_type": "markdown",
   "id": "b2dcb265",
   "metadata": {},
   "source": [
    "### H\n",
    "#### Funding on has been dwindling over the years \n",
    "\n",
    "### H*0*\n",
    "#### Funding has been increasing over the years \n"
   ]
  },
  {
   "cell_type": "markdown",
   "id": "d5c147e5",
   "metadata": {},
   "source": [
    "# Questions "
   ]
  },
  {
   "cell_type": "markdown",
   "id": "cfc07a28",
   "metadata": {},
   "source": [
    "1. At what stage did most companies received funding ?\n",
    "\n",
    "\n",
    "2. What city/area/location are the most start-ups from ?\n",
    "\n",
    "\n",
    "3. How much funding did the different companies get?\n",
    "\n",
    "   (What are the top 10 most funded companies/sectors)\n",
    "\n",
    "\n",
    "4. What city/ location are the most funded startups from ?\n",
    "\n",
    "\n",
    "5. Who are the most Funding investors ?\n",
    "\n",
    "   ( For the years 2019, 2020)"
   ]
  },
  {
   "cell_type": "code",
   "execution_count": 5,
   "id": "3f244f1d",
   "metadata": {},
   "outputs": [],
   "source": [
    "import pandas as pd \n",
    "\n",
    "import numpy as np \n",
    "\n",
    "import matplotlib.pyplot as plt \n",
    "\n",
    "import seaborn as sns \n",
    "import os\n",
    "import glob"
   ]
  },
  {
   "cell_type": "code",
   "execution_count": 6,
   "id": "dc79a3d9",
   "metadata": {},
   "outputs": [
    {
     "data": {
      "text/plain": [
       "['startup_funding2018.csv',\n",
       " 'startup_funding2019.csv',\n",
       " 'startup_funding2020.csv',\n",
       " 'startup_funding2021.csv']"
      ]
     },
     "execution_count": 6,
     "metadata": {},
     "output_type": "execute_result"
    }
   ],
   "source": [
    "cwd = os.path.abspath('')\n",
    "file_list = os.listdir(cwd)\n",
    "csv_files = glob.glob('*.{}'.format('csv'))\n",
    "csv_files"
   ]
  },
  {
   "cell_type": "code",
   "execution_count": 7,
   "id": "7e443855",
   "metadata": {},
   "outputs": [],
   "source": [
    "df_2018=pd.read_csv( csv_files[0])\n",
    "df_2019=pd.read_csv( csv_files[1])\n",
    "df_2020=pd.read_csv( csv_files[2])\n",
    "df_2021=pd.read_csv( csv_files[3])"
   ]
  },
  {
   "cell_type": "code",
   "execution_count": 8,
   "id": "60985c12",
   "metadata": {},
   "outputs": [
    {
     "data": {
      "text/html": [
       "<div>\n",
       "<style scoped>\n",
       "    .dataframe tbody tr th:only-of-type {\n",
       "        vertical-align: middle;\n",
       "    }\n",
       "\n",
       "    .dataframe tbody tr th {\n",
       "        vertical-align: top;\n",
       "    }\n",
       "\n",
       "    .dataframe thead th {\n",
       "        text-align: right;\n",
       "    }\n",
       "</style>\n",
       "<table border=\"1\" class=\"dataframe\">\n",
       "  <thead>\n",
       "    <tr style=\"text-align: right;\">\n",
       "      <th></th>\n",
       "      <th>Company Name</th>\n",
       "      <th>Industry</th>\n",
       "      <th>Round/Series</th>\n",
       "      <th>Amount</th>\n",
       "      <th>Location</th>\n",
       "      <th>About Company</th>\n",
       "    </tr>\n",
       "  </thead>\n",
       "  <tbody>\n",
       "    <tr>\n",
       "      <th>0</th>\n",
       "      <td>TheCollegeFever</td>\n",
       "      <td>Brand Marketing, Event Promotion, Marketing, S...</td>\n",
       "      <td>Seed</td>\n",
       "      <td>250000</td>\n",
       "      <td>Bangalore, Karnataka, India</td>\n",
       "      <td>TheCollegeFever is a hub for fun, fiesta and f...</td>\n",
       "    </tr>\n",
       "    <tr>\n",
       "      <th>1</th>\n",
       "      <td>Happy Cow Dairy</td>\n",
       "      <td>Agriculture, Farming</td>\n",
       "      <td>Seed</td>\n",
       "      <td>₹40,000,000</td>\n",
       "      <td>Mumbai, Maharashtra, India</td>\n",
       "      <td>A startup which aggregates milk from dairy far...</td>\n",
       "    </tr>\n",
       "    <tr>\n",
       "      <th>2</th>\n",
       "      <td>MyLoanCare</td>\n",
       "      <td>Credit, Financial Services, Lending, Marketplace</td>\n",
       "      <td>Series A</td>\n",
       "      <td>₹65,000,000</td>\n",
       "      <td>Gurgaon, Haryana, India</td>\n",
       "      <td>Leading Online Loans Marketplace in India</td>\n",
       "    </tr>\n",
       "    <tr>\n",
       "      <th>3</th>\n",
       "      <td>PayMe India</td>\n",
       "      <td>Financial Services, FinTech</td>\n",
       "      <td>Angel</td>\n",
       "      <td>2000000</td>\n",
       "      <td>Noida, Uttar Pradesh, India</td>\n",
       "      <td>PayMe India is an innovative FinTech organizat...</td>\n",
       "    </tr>\n",
       "    <tr>\n",
       "      <th>4</th>\n",
       "      <td>Eunimart</td>\n",
       "      <td>E-Commerce Platforms, Retail, SaaS</td>\n",
       "      <td>Seed</td>\n",
       "      <td>—</td>\n",
       "      <td>Hyderabad, Andhra Pradesh, India</td>\n",
       "      <td>Eunimart is a one stop solution for merchants ...</td>\n",
       "    </tr>\n",
       "  </tbody>\n",
       "</table>\n",
       "</div>"
      ],
      "text/plain": [
       "      Company Name                                           Industry  \\\n",
       "0  TheCollegeFever  Brand Marketing, Event Promotion, Marketing, S...   \n",
       "1  Happy Cow Dairy                               Agriculture, Farming   \n",
       "2       MyLoanCare   Credit, Financial Services, Lending, Marketplace   \n",
       "3      PayMe India                        Financial Services, FinTech   \n",
       "4         Eunimart                 E-Commerce Platforms, Retail, SaaS   \n",
       "\n",
       "  Round/Series       Amount                          Location  \\\n",
       "0         Seed       250000       Bangalore, Karnataka, India   \n",
       "1         Seed  ₹40,000,000        Mumbai, Maharashtra, India   \n",
       "2     Series A  ₹65,000,000           Gurgaon, Haryana, India   \n",
       "3        Angel      2000000       Noida, Uttar Pradesh, India   \n",
       "4         Seed            —  Hyderabad, Andhra Pradesh, India   \n",
       "\n",
       "                                       About Company  \n",
       "0  TheCollegeFever is a hub for fun, fiesta and f...  \n",
       "1  A startup which aggregates milk from dairy far...  \n",
       "2          Leading Online Loans Marketplace in India  \n",
       "3  PayMe India is an innovative FinTech organizat...  \n",
       "4  Eunimart is a one stop solution for merchants ...  "
      ]
     },
     "execution_count": 8,
     "metadata": {},
     "output_type": "execute_result"
    }
   ],
   "source": [
    "df_2018.head()"
   ]
  },
  {
   "cell_type": "code",
   "execution_count": 9,
   "id": "fa95d792",
   "metadata": {},
   "outputs": [
    {
     "data": {
      "text/html": [
       "<div>\n",
       "<style scoped>\n",
       "    .dataframe tbody tr th:only-of-type {\n",
       "        vertical-align: middle;\n",
       "    }\n",
       "\n",
       "    .dataframe tbody tr th {\n",
       "        vertical-align: top;\n",
       "    }\n",
       "\n",
       "    .dataframe thead th {\n",
       "        text-align: right;\n",
       "    }\n",
       "</style>\n",
       "<table border=\"1\" class=\"dataframe\">\n",
       "  <thead>\n",
       "    <tr style=\"text-align: right;\">\n",
       "      <th></th>\n",
       "      <th>Company/Brand</th>\n",
       "      <th>Founded</th>\n",
       "      <th>HeadQuarter</th>\n",
       "      <th>Sector</th>\n",
       "      <th>What it does</th>\n",
       "      <th>Founders</th>\n",
       "      <th>Investor</th>\n",
       "      <th>Amount($)</th>\n",
       "      <th>Stage</th>\n",
       "    </tr>\n",
       "  </thead>\n",
       "  <tbody>\n",
       "    <tr>\n",
       "      <th>0</th>\n",
       "      <td>Bombay Shaving</td>\n",
       "      <td>NaN</td>\n",
       "      <td>NaN</td>\n",
       "      <td>Ecommerce</td>\n",
       "      <td>Provides a range of male grooming products</td>\n",
       "      <td>Shantanu Deshpande</td>\n",
       "      <td>Sixth Sense Ventures</td>\n",
       "      <td>$6,300,000</td>\n",
       "      <td>NaN</td>\n",
       "    </tr>\n",
       "    <tr>\n",
       "      <th>1</th>\n",
       "      <td>Ruangguru</td>\n",
       "      <td>2014.0</td>\n",
       "      <td>Mumbai</td>\n",
       "      <td>Edtech</td>\n",
       "      <td>A learning platform that provides topic-based ...</td>\n",
       "      <td>Adamas Belva Syah Devara, Iman Usman.</td>\n",
       "      <td>General Atlantic</td>\n",
       "      <td>$150,000,000</td>\n",
       "      <td>Series C</td>\n",
       "    </tr>\n",
       "    <tr>\n",
       "      <th>2</th>\n",
       "      <td>Eduisfun</td>\n",
       "      <td>NaN</td>\n",
       "      <td>Mumbai</td>\n",
       "      <td>Edtech</td>\n",
       "      <td>It aims to make learning fun via games.</td>\n",
       "      <td>Jatin Solanki</td>\n",
       "      <td>Deepak Parekh, Amitabh Bachchan, Piyush Pandey</td>\n",
       "      <td>$28,000,000</td>\n",
       "      <td>Fresh funding</td>\n",
       "    </tr>\n",
       "    <tr>\n",
       "      <th>3</th>\n",
       "      <td>HomeLane</td>\n",
       "      <td>2014.0</td>\n",
       "      <td>Chennai</td>\n",
       "      <td>Interior design</td>\n",
       "      <td>Provides interior designing solutions</td>\n",
       "      <td>Srikanth Iyer, Rama Harinath</td>\n",
       "      <td>Evolvence India Fund (EIF), Pidilite Group, FJ...</td>\n",
       "      <td>$30,000,000</td>\n",
       "      <td>Series D</td>\n",
       "    </tr>\n",
       "    <tr>\n",
       "      <th>4</th>\n",
       "      <td>Nu Genes</td>\n",
       "      <td>2004.0</td>\n",
       "      <td>Telangana</td>\n",
       "      <td>AgriTech</td>\n",
       "      <td>It is a seed company engaged in production, pr...</td>\n",
       "      <td>Narayana Reddy Punyala</td>\n",
       "      <td>Innovation in Food and Agriculture (IFA)</td>\n",
       "      <td>$6,000,000</td>\n",
       "      <td>NaN</td>\n",
       "    </tr>\n",
       "  </tbody>\n",
       "</table>\n",
       "</div>"
      ],
      "text/plain": [
       "    Company/Brand  Founded HeadQuarter           Sector  \\\n",
       "0  Bombay Shaving      NaN         NaN        Ecommerce   \n",
       "1       Ruangguru   2014.0      Mumbai           Edtech   \n",
       "2        Eduisfun      NaN      Mumbai           Edtech   \n",
       "3        HomeLane   2014.0     Chennai  Interior design   \n",
       "4        Nu Genes   2004.0   Telangana         AgriTech   \n",
       "\n",
       "                                        What it does  \\\n",
       "0         Provides a range of male grooming products   \n",
       "1  A learning platform that provides topic-based ...   \n",
       "2            It aims to make learning fun via games.   \n",
       "3              Provides interior designing solutions   \n",
       "4  It is a seed company engaged in production, pr...   \n",
       "\n",
       "                                Founders  \\\n",
       "0                     Shantanu Deshpande   \n",
       "1  Adamas Belva Syah Devara, Iman Usman.   \n",
       "2                          Jatin Solanki   \n",
       "3           Srikanth Iyer, Rama Harinath   \n",
       "4                 Narayana Reddy Punyala   \n",
       "\n",
       "                                            Investor     Amount($)  \\\n",
       "0                               Sixth Sense Ventures    $6,300,000   \n",
       "1                                   General Atlantic  $150,000,000   \n",
       "2     Deepak Parekh, Amitabh Bachchan, Piyush Pandey   $28,000,000   \n",
       "3  Evolvence India Fund (EIF), Pidilite Group, FJ...   $30,000,000   \n",
       "4           Innovation in Food and Agriculture (IFA)    $6,000,000   \n",
       "\n",
       "           Stage  \n",
       "0            NaN  \n",
       "1       Series C  \n",
       "2  Fresh funding  \n",
       "3       Series D  \n",
       "4            NaN  "
      ]
     },
     "execution_count": 9,
     "metadata": {},
     "output_type": "execute_result"
    }
   ],
   "source": [
    "df_2019.head()"
   ]
  },
  {
   "cell_type": "code",
   "execution_count": 10,
   "id": "28fe2a03",
   "metadata": {},
   "outputs": [
    {
     "data": {
      "text/html": [
       "<div>\n",
       "<style scoped>\n",
       "    .dataframe tbody tr th:only-of-type {\n",
       "        vertical-align: middle;\n",
       "    }\n",
       "\n",
       "    .dataframe tbody tr th {\n",
       "        vertical-align: top;\n",
       "    }\n",
       "\n",
       "    .dataframe thead th {\n",
       "        text-align: right;\n",
       "    }\n",
       "</style>\n",
       "<table border=\"1\" class=\"dataframe\">\n",
       "  <thead>\n",
       "    <tr style=\"text-align: right;\">\n",
       "      <th></th>\n",
       "      <th>Company/Brand</th>\n",
       "      <th>Founded</th>\n",
       "      <th>HeadQuarter</th>\n",
       "      <th>Sector</th>\n",
       "      <th>What it does</th>\n",
       "      <th>Founders</th>\n",
       "      <th>Investor</th>\n",
       "      <th>Amount($)</th>\n",
       "      <th>Stage</th>\n",
       "      <th>Unnamed: 9</th>\n",
       "    </tr>\n",
       "  </thead>\n",
       "  <tbody>\n",
       "    <tr>\n",
       "      <th>0</th>\n",
       "      <td>Aqgromalin</td>\n",
       "      <td>2019</td>\n",
       "      <td>Chennai</td>\n",
       "      <td>AgriTech</td>\n",
       "      <td>Cultivating Ideas for Profit</td>\n",
       "      <td>Prasanna Manogaran, Bharani C L</td>\n",
       "      <td>Angel investors</td>\n",
       "      <td>$200,000</td>\n",
       "      <td>NaN</td>\n",
       "      <td>NaN</td>\n",
       "    </tr>\n",
       "    <tr>\n",
       "      <th>1</th>\n",
       "      <td>Krayonnz</td>\n",
       "      <td>2019</td>\n",
       "      <td>Bangalore</td>\n",
       "      <td>EdTech</td>\n",
       "      <td>An academy-guardian-scholar centric ecosystem ...</td>\n",
       "      <td>Saurabh Dixit, Gurudutt Upadhyay</td>\n",
       "      <td>GSF Accelerator</td>\n",
       "      <td>$100,000</td>\n",
       "      <td>Pre-seed</td>\n",
       "      <td>NaN</td>\n",
       "    </tr>\n",
       "    <tr>\n",
       "      <th>2</th>\n",
       "      <td>PadCare Labs</td>\n",
       "      <td>2018</td>\n",
       "      <td>Pune</td>\n",
       "      <td>Hygiene management</td>\n",
       "      <td>Converting bio-hazardous waste to harmless waste</td>\n",
       "      <td>Ajinkya Dhariya</td>\n",
       "      <td>Venture Center</td>\n",
       "      <td>Undisclosed</td>\n",
       "      <td>Pre-seed</td>\n",
       "      <td>NaN</td>\n",
       "    </tr>\n",
       "    <tr>\n",
       "      <th>3</th>\n",
       "      <td>NCOME</td>\n",
       "      <td>2020</td>\n",
       "      <td>New Delhi</td>\n",
       "      <td>Escrow</td>\n",
       "      <td>Escrow-as-a-service platform</td>\n",
       "      <td>Ritesh Tiwari</td>\n",
       "      <td>Venture Catalysts, PointOne Capital</td>\n",
       "      <td>$400,000</td>\n",
       "      <td>NaN</td>\n",
       "      <td>NaN</td>\n",
       "    </tr>\n",
       "    <tr>\n",
       "      <th>4</th>\n",
       "      <td>Gramophone</td>\n",
       "      <td>2016</td>\n",
       "      <td>Indore</td>\n",
       "      <td>AgriTech</td>\n",
       "      <td>Gramophone is an AgTech platform enabling acce...</td>\n",
       "      <td>Ashish Rajan Singh, Harshit Gupta, Nishant Mah...</td>\n",
       "      <td>Siana Capital Management, Info Edge</td>\n",
       "      <td>$340,000</td>\n",
       "      <td>NaN</td>\n",
       "      <td>NaN</td>\n",
       "    </tr>\n",
       "  </tbody>\n",
       "</table>\n",
       "</div>"
      ],
      "text/plain": [
       "  Company/Brand Founded HeadQuarter              Sector  \\\n",
       "0    Aqgromalin    2019     Chennai            AgriTech   \n",
       "1      Krayonnz    2019   Bangalore              EdTech   \n",
       "2  PadCare Labs    2018        Pune  Hygiene management   \n",
       "3         NCOME    2020   New Delhi              Escrow   \n",
       "4    Gramophone    2016      Indore            AgriTech   \n",
       "\n",
       "                                        What it does  \\\n",
       "0                       Cultivating Ideas for Profit   \n",
       "1  An academy-guardian-scholar centric ecosystem ...   \n",
       "2   Converting bio-hazardous waste to harmless waste   \n",
       "3                       Escrow-as-a-service platform   \n",
       "4  Gramophone is an AgTech platform enabling acce...   \n",
       "\n",
       "                                            Founders  \\\n",
       "0                    Prasanna Manogaran, Bharani C L   \n",
       "1                   Saurabh Dixit, Gurudutt Upadhyay   \n",
       "2                                    Ajinkya Dhariya   \n",
       "3                                      Ritesh Tiwari   \n",
       "4  Ashish Rajan Singh, Harshit Gupta, Nishant Mah...   \n",
       "\n",
       "                              Investor    Amount($)     Stage Unnamed: 9  \n",
       "0                      Angel investors     $200,000       NaN        NaN  \n",
       "1                      GSF Accelerator     $100,000  Pre-seed        NaN  \n",
       "2                       Venture Center  Undisclosed  Pre-seed        NaN  \n",
       "3  Venture Catalysts, PointOne Capital     $400,000       NaN        NaN  \n",
       "4  Siana Capital Management, Info Edge     $340,000       NaN        NaN  "
      ]
     },
     "execution_count": 10,
     "metadata": {},
     "output_type": "execute_result"
    }
   ],
   "source": [
    "df_2020.head()"
   ]
  },
  {
   "cell_type": "code",
   "execution_count": 11,
   "id": "31ae39bd",
   "metadata": {},
   "outputs": [
    {
     "data": {
      "text/html": [
       "<div>\n",
       "<style scoped>\n",
       "    .dataframe tbody tr th:only-of-type {\n",
       "        vertical-align: middle;\n",
       "    }\n",
       "\n",
       "    .dataframe tbody tr th {\n",
       "        vertical-align: top;\n",
       "    }\n",
       "\n",
       "    .dataframe thead th {\n",
       "        text-align: right;\n",
       "    }\n",
       "</style>\n",
       "<table border=\"1\" class=\"dataframe\">\n",
       "  <thead>\n",
       "    <tr style=\"text-align: right;\">\n",
       "      <th></th>\n",
       "      <th>Company/Brand</th>\n",
       "      <th>Founded</th>\n",
       "      <th>HeadQuarter</th>\n",
       "      <th>Sector</th>\n",
       "      <th>What it does</th>\n",
       "      <th>Founders</th>\n",
       "      <th>Investor</th>\n",
       "      <th>Amount($)</th>\n",
       "      <th>Stage</th>\n",
       "    </tr>\n",
       "  </thead>\n",
       "  <tbody>\n",
       "    <tr>\n",
       "      <th>0</th>\n",
       "      <td>Unbox Robotics</td>\n",
       "      <td>2019.0</td>\n",
       "      <td>Bangalore</td>\n",
       "      <td>AI startup</td>\n",
       "      <td>Unbox Robotics builds on-demand AI-driven ware...</td>\n",
       "      <td>Pramod Ghadge, Shahid Memon</td>\n",
       "      <td>BEENEXT, Entrepreneur First</td>\n",
       "      <td>$1,200,000</td>\n",
       "      <td>Pre-series A</td>\n",
       "    </tr>\n",
       "    <tr>\n",
       "      <th>1</th>\n",
       "      <td>upGrad</td>\n",
       "      <td>2015.0</td>\n",
       "      <td>Mumbai</td>\n",
       "      <td>EdTech</td>\n",
       "      <td>UpGrad is an online higher education platform.</td>\n",
       "      <td>Mayank Kumar, Phalgun Kompalli, Ravijot Chugh,...</td>\n",
       "      <td>Unilazer Ventures, IIFL Asset Management</td>\n",
       "      <td>$120,000,000</td>\n",
       "      <td>NaN</td>\n",
       "    </tr>\n",
       "    <tr>\n",
       "      <th>2</th>\n",
       "      <td>Lead School</td>\n",
       "      <td>2012.0</td>\n",
       "      <td>Mumbai</td>\n",
       "      <td>EdTech</td>\n",
       "      <td>LEAD School offers technology based school tra...</td>\n",
       "      <td>Smita Deorah, Sumeet Mehta</td>\n",
       "      <td>GSV Ventures, Westbridge Capital</td>\n",
       "      <td>$30,000,000</td>\n",
       "      <td>Series D</td>\n",
       "    </tr>\n",
       "    <tr>\n",
       "      <th>3</th>\n",
       "      <td>Bizongo</td>\n",
       "      <td>2015.0</td>\n",
       "      <td>Mumbai</td>\n",
       "      <td>B2B E-commerce</td>\n",
       "      <td>Bizongo is a business-to-business online marke...</td>\n",
       "      <td>Aniket Deb, Ankit Tomar, Sachin Agrawal</td>\n",
       "      <td>CDC Group, IDG Capital</td>\n",
       "      <td>$51,000,000</td>\n",
       "      <td>Series C</td>\n",
       "    </tr>\n",
       "    <tr>\n",
       "      <th>4</th>\n",
       "      <td>FypMoney</td>\n",
       "      <td>2021.0</td>\n",
       "      <td>Gurugram</td>\n",
       "      <td>FinTech</td>\n",
       "      <td>FypMoney is Digital NEO Bank for Teenagers, em...</td>\n",
       "      <td>Kapil Banwari</td>\n",
       "      <td>Liberatha Kallat, Mukesh Yadav, Dinesh Nagpal</td>\n",
       "      <td>$2,000,000</td>\n",
       "      <td>Seed</td>\n",
       "    </tr>\n",
       "  </tbody>\n",
       "</table>\n",
       "</div>"
      ],
      "text/plain": [
       "    Company/Brand  Founded HeadQuarter          Sector  \\\n",
       "0  Unbox Robotics   2019.0   Bangalore      AI startup   \n",
       "1          upGrad   2015.0      Mumbai          EdTech   \n",
       "2     Lead School   2012.0      Mumbai          EdTech   \n",
       "3         Bizongo   2015.0      Mumbai  B2B E-commerce   \n",
       "4        FypMoney   2021.0    Gurugram         FinTech   \n",
       "\n",
       "                                        What it does  \\\n",
       "0  Unbox Robotics builds on-demand AI-driven ware...   \n",
       "1     UpGrad is an online higher education platform.   \n",
       "2  LEAD School offers technology based school tra...   \n",
       "3  Bizongo is a business-to-business online marke...   \n",
       "4  FypMoney is Digital NEO Bank for Teenagers, em...   \n",
       "\n",
       "                                            Founders  \\\n",
       "0                        Pramod Ghadge, Shahid Memon   \n",
       "1  Mayank Kumar, Phalgun Kompalli, Ravijot Chugh,...   \n",
       "2                         Smita Deorah, Sumeet Mehta   \n",
       "3            Aniket Deb, Ankit Tomar, Sachin Agrawal   \n",
       "4                                      Kapil Banwari   \n",
       "\n",
       "                                        Investor     Amount($)         Stage  \n",
       "0                    BEENEXT, Entrepreneur First    $1,200,000  Pre-series A  \n",
       "1       Unilazer Ventures, IIFL Asset Management  $120,000,000           NaN  \n",
       "2               GSV Ventures, Westbridge Capital   $30,000,000      Series D  \n",
       "3                         CDC Group, IDG Capital   $51,000,000      Series C  \n",
       "4  Liberatha Kallat, Mukesh Yadav, Dinesh Nagpal    $2,000,000          Seed  "
      ]
     },
     "execution_count": 11,
     "metadata": {},
     "output_type": "execute_result"
    }
   ],
   "source": [
    "df_2021.head()"
   ]
  },
  {
   "cell_type": "code",
   "execution_count": null,
   "id": "b1d85afb",
   "metadata": {},
   "outputs": [],
   "source": []
  },
  {
   "attachments": {},
   "cell_type": "markdown",
   "id": "db2dc14c",
   "metadata": {},
   "source": [
    "# WEEK 2\n",
    "\n",
    "\n",
    "## BUSINESS UNDERSTANDING PHASE "
   ]
  },
  {
   "attachments": {},
   "cell_type": "markdown",
   "id": "67a89121",
   "metadata": {},
   "source": [
    "### TASKS \n",
    "\n",
    "We are to perform \n",
    "\n",
    "   1. EDA (Explotatory Data Analysis) to better understand the datasets provided, identify the issues with the data. \n",
    "    \n",
    "    \n",
    "   2. Write down the issues with our data\n",
    "\n",
    "\n",
    "   3. Identify how we'll be dealing with the issue \n"
   ]
  },
  {
   "cell_type": "code",
   "execution_count": 12,
   "id": "cb6bea7d",
   "metadata": {},
   "outputs": [
    {
     "name": "stdout",
     "output_type": "stream",
     "text": [
      "(526, 6)\n",
      "(89, 9)\n",
      "(1055, 10)\n",
      "(1209, 9)\n"
     ]
    }
   ],
   "source": [
    "print(df_2018.shape)\n",
    "print(df_2019.shape)\n",
    "print(df_2020.shape)\n",
    "print(df_2021.shape)"
   ]
  },
  {
   "cell_type": "code",
   "execution_count": 13,
   "id": "168eabe9",
   "metadata": {},
   "outputs": [
    {
     "name": "stdout",
     "output_type": "stream",
     "text": [
      "2018 Empty DataFrame\n",
      "Columns: [Company Name, Industry, Round/Series, Amount, Location, About Company]\n",
      "Index: []\n",
      "2019 Empty DataFrame\n",
      "Columns: [Company/Brand, Founded, HeadQuarter, Sector, What it does, Founders, Investor, Amount($), Stage]\n",
      "Index: []\n",
      "2020 Empty DataFrame\n",
      "Columns: [Company/Brand, Founded, HeadQuarter, Sector, What it does, Founders, Investor, Amount($), Stage, Unnamed: 9]\n",
      "Index: []\n",
      "2021 Empty DataFrame\n",
      "Columns: [Company/Brand, Founded, HeadQuarter, Sector, What it does, Founders, Investor, Amount($), Stage]\n",
      "Index: []\n"
     ]
    }
   ],
   "source": [
    "# Look at the datasets with date column added \n",
    "print( '2018', df_2018.head(0))\n",
    "print('2019' , df_2019.head(0))\n",
    "print( '2020' ,df_2020.head(0))\n",
    "print('2021' , df_2021.head(0))"
   ]
  },
  {
   "cell_type": "code",
   "execution_count": 14,
   "id": "5ea2d2e4",
   "metadata": {},
   "outputs": [
    {
     "data": {
      "text/html": [
       "<div>\n",
       "<style scoped>\n",
       "    .dataframe tbody tr th:only-of-type {\n",
       "        vertical-align: middle;\n",
       "    }\n",
       "\n",
       "    .dataframe tbody tr th {\n",
       "        vertical-align: top;\n",
       "    }\n",
       "\n",
       "    .dataframe thead th {\n",
       "        text-align: right;\n",
       "    }\n",
       "</style>\n",
       "<table border=\"1\" class=\"dataframe\">\n",
       "  <thead>\n",
       "    <tr style=\"text-align: right;\">\n",
       "      <th></th>\n",
       "      <th>Company/Brand</th>\n",
       "      <th>Sector</th>\n",
       "      <th>Stage</th>\n",
       "      <th>Amount($)</th>\n",
       "      <th>HeadQuarter</th>\n",
       "      <th>What it does</th>\n",
       "    </tr>\n",
       "  </thead>\n",
       "  <tbody>\n",
       "  </tbody>\n",
       "</table>\n",
       "</div>"
      ],
      "text/plain": [
       "Empty DataFrame\n",
       "Columns: [Company/Brand, Sector, Stage, Amount($), HeadQuarter, What it does]\n",
       "Index: []"
      ]
     },
     "execution_count": 14,
     "metadata": {},
     "output_type": "execute_result"
    }
   ],
   "source": [
    "# RENAME COLUMN 2018\n",
    "\n",
    "df_2018 = df_2018.rename( columns = \n",
    "                          {'Company Name':'Company/Brand',\n",
    "                           'Industry': 'Sector', \n",
    "                           'Round/Series': 'Stage',\n",
    "                           'Amount' :'Amount($)',\n",
    "                           'Location':'HeadQuarter',\n",
    "                           'About Company' : 'What it does'})\n",
    "\n",
    "df_2018.head(0\n",
    "                 )"
   ]
  },
  {
   "cell_type": "code",
   "execution_count": 15,
   "id": "bdc37bf1",
   "metadata": {},
   "outputs": [
    {
     "data": {
      "text/plain": [
       "1053"
      ]
     },
     "execution_count": 15,
     "metadata": {},
     "output_type": "execute_result"
    }
   ],
   "source": [
    "# Checking the number of Unnamed column in funding 2020 data \n",
    "\n",
    "df_2020['Unnamed: 9'].isna().sum()\n"
   ]
  },
  {
   "cell_type": "code",
   "execution_count": 16,
   "id": "dfec5a10",
   "metadata": {},
   "outputs": [],
   "source": [
    "# changing Amount from rupees to dollars\n",
    "df_2018['Amount($)'] =df_2018['Amount($)'].str.replace('₹','')\n",
    "df_2018['Amount($)'] =df_2018['Amount($)'].str.replace(',','')\n",
    "df_2018 = df_2018[df_2018['Amount($)'].apply(lambda x: str(x).isdigit())]"
   ]
  },
  {
   "cell_type": "code",
   "execution_count": 17,
   "id": "d8ef00a1",
   "metadata": {},
   "outputs": [
    {
     "data": {
      "text/plain": [
       "0         3949\n",
       "1       631946\n",
       "2      1026913\n",
       "3        31597\n",
       "5        25277\n",
       "        ...   \n",
       "520     235400\n",
       "521    3554698\n",
       "523        118\n",
       "524     552953\n",
       "525     552953\n",
       "Name: Amount($), Length: 319, dtype: object"
      ]
     },
     "execution_count": 17,
     "metadata": {},
     "output_type": "execute_result"
    }
   ],
   "source": [
    "df_2018['Amount($)'] = df_2018['Amount($)'].astype(str).astype(float)\n",
    "df_2018['Amount($)'] = df_2018['Amount($)']//63.2965\n",
    "df_2018['Amount($)'] = df_2018['Amount($)'].apply(int)\n",
    "df_2018['Amount($)'] = df_2018['Amount($)'].apply(str)\n",
    "df_2018['Amount($)']"
   ]
  },
  {
   "cell_type": "code",
   "execution_count": 18,
   "id": "db50737a",
   "metadata": {},
   "outputs": [],
   "source": [
    "# Droped Unnamed column in funding 2020 data \n",
    "\n",
    "df_2020= df_2020.drop('Unnamed: 9', axis = 1)"
   ]
  },
  {
   "cell_type": "code",
   "execution_count": 19,
   "id": "3de1d630",
   "metadata": {},
   "outputs": [],
   "source": [
    "#combined funding data\n",
    "df_combined = pd.concat([df_2018, df_2019,df_2020, df_2021], ignore_index = True)"
   ]
  },
  {
   "cell_type": "code",
   "execution_count": 20,
   "id": "a6e63b66",
   "metadata": {},
   "outputs": [
    {
     "data": {
      "text/html": [
       "<div>\n",
       "<style scoped>\n",
       "    .dataframe tbody tr th:only-of-type {\n",
       "        vertical-align: middle;\n",
       "    }\n",
       "\n",
       "    .dataframe tbody tr th {\n",
       "        vertical-align: top;\n",
       "    }\n",
       "\n",
       "    .dataframe thead th {\n",
       "        text-align: right;\n",
       "    }\n",
       "</style>\n",
       "<table border=\"1\" class=\"dataframe\">\n",
       "  <thead>\n",
       "    <tr style=\"text-align: right;\">\n",
       "      <th></th>\n",
       "      <th>Company/Brand</th>\n",
       "      <th>Sector</th>\n",
       "      <th>Stage</th>\n",
       "      <th>Amount($)</th>\n",
       "      <th>HeadQuarter</th>\n",
       "      <th>What it does</th>\n",
       "      <th>Founded</th>\n",
       "      <th>Founders</th>\n",
       "      <th>Investor</th>\n",
       "    </tr>\n",
       "  </thead>\n",
       "  <tbody>\n",
       "    <tr>\n",
       "      <th>0</th>\n",
       "      <td>TheCollegeFever</td>\n",
       "      <td>Brand Marketing, Event Promotion, Marketing, S...</td>\n",
       "      <td>Seed</td>\n",
       "      <td>3949</td>\n",
       "      <td>Bangalore, Karnataka, India</td>\n",
       "      <td>TheCollegeFever is a hub for fun, fiesta and f...</td>\n",
       "      <td>NaN</td>\n",
       "      <td>NaN</td>\n",
       "      <td>NaN</td>\n",
       "    </tr>\n",
       "    <tr>\n",
       "      <th>1</th>\n",
       "      <td>Happy Cow Dairy</td>\n",
       "      <td>Agriculture, Farming</td>\n",
       "      <td>Seed</td>\n",
       "      <td>631946</td>\n",
       "      <td>Mumbai, Maharashtra, India</td>\n",
       "      <td>A startup which aggregates milk from dairy far...</td>\n",
       "      <td>NaN</td>\n",
       "      <td>NaN</td>\n",
       "      <td>NaN</td>\n",
       "    </tr>\n",
       "    <tr>\n",
       "      <th>2</th>\n",
       "      <td>MyLoanCare</td>\n",
       "      <td>Credit, Financial Services, Lending, Marketplace</td>\n",
       "      <td>Series A</td>\n",
       "      <td>1026913</td>\n",
       "      <td>Gurgaon, Haryana, India</td>\n",
       "      <td>Leading Online Loans Marketplace in India</td>\n",
       "      <td>NaN</td>\n",
       "      <td>NaN</td>\n",
       "      <td>NaN</td>\n",
       "    </tr>\n",
       "    <tr>\n",
       "      <th>3</th>\n",
       "      <td>PayMe India</td>\n",
       "      <td>Financial Services, FinTech</td>\n",
       "      <td>Angel</td>\n",
       "      <td>31597</td>\n",
       "      <td>Noida, Uttar Pradesh, India</td>\n",
       "      <td>PayMe India is an innovative FinTech organizat...</td>\n",
       "      <td>NaN</td>\n",
       "      <td>NaN</td>\n",
       "      <td>NaN</td>\n",
       "    </tr>\n",
       "    <tr>\n",
       "      <th>4</th>\n",
       "      <td>Hasura</td>\n",
       "      <td>Cloud Infrastructure, PaaS, SaaS</td>\n",
       "      <td>Seed</td>\n",
       "      <td>25277</td>\n",
       "      <td>Bengaluru, Karnataka, India</td>\n",
       "      <td>Hasura is a platform that allows developers to...</td>\n",
       "      <td>NaN</td>\n",
       "      <td>NaN</td>\n",
       "      <td>NaN</td>\n",
       "    </tr>\n",
       "  </tbody>\n",
       "</table>\n",
       "</div>"
      ],
      "text/plain": [
       "     Company/Brand                                             Sector  \\\n",
       "0  TheCollegeFever  Brand Marketing, Event Promotion, Marketing, S...   \n",
       "1  Happy Cow Dairy                               Agriculture, Farming   \n",
       "2       MyLoanCare   Credit, Financial Services, Lending, Marketplace   \n",
       "3      PayMe India                        Financial Services, FinTech   \n",
       "4           Hasura                   Cloud Infrastructure, PaaS, SaaS   \n",
       "\n",
       "      Stage Amount($)                  HeadQuarter  \\\n",
       "0      Seed      3949  Bangalore, Karnataka, India   \n",
       "1      Seed    631946   Mumbai, Maharashtra, India   \n",
       "2  Series A   1026913      Gurgaon, Haryana, India   \n",
       "3     Angel     31597  Noida, Uttar Pradesh, India   \n",
       "4      Seed     25277  Bengaluru, Karnataka, India   \n",
       "\n",
       "                                        What it does Founded Founders Investor  \n",
       "0  TheCollegeFever is a hub for fun, fiesta and f...     NaN      NaN      NaN  \n",
       "1  A startup which aggregates milk from dairy far...     NaN      NaN      NaN  \n",
       "2          Leading Online Loans Marketplace in India     NaN      NaN      NaN  \n",
       "3  PayMe India is an innovative FinTech organizat...     NaN      NaN      NaN  \n",
       "4  Hasura is a platform that allows developers to...     NaN      NaN      NaN  "
      ]
     },
     "execution_count": 20,
     "metadata": {},
     "output_type": "execute_result"
    }
   ],
   "source": [
    "df_combined.head()"
   ]
  },
  {
   "cell_type": "code",
   "execution_count": 21,
   "id": "28210f96",
   "metadata": {},
   "outputs": [
    {
     "name": "stdout",
     "output_type": "stream",
     "text": [
      "<class 'pandas.core.frame.DataFrame'>\n",
      "RangeIndex: 2672 entries, 0 to 2671\n",
      "Data columns (total 9 columns):\n",
      " #   Column         Non-Null Count  Dtype \n",
      "---  ------         --------------  ----- \n",
      " 0   Company/Brand  2672 non-null   object\n",
      " 1   Sector         2654 non-null   object\n",
      " 2   Stage          1734 non-null   object\n",
      " 3   Amount($)      2666 non-null   object\n",
      " 4   HeadQuarter    2558 non-null   object\n",
      " 5   What it does   2672 non-null   object\n",
      " 6   Founded        2111 non-null   object\n",
      " 7   Founders       2334 non-null   object\n",
      " 8   Investor       2253 non-null   object\n",
      "dtypes: object(9)\n",
      "memory usage: 188.0+ KB\n"
     ]
    }
   ],
   "source": [
    "df_combined.info()"
   ]
  },
  {
   "cell_type": "code",
   "execution_count": 22,
   "id": "7a72a5ba",
   "metadata": {},
   "outputs": [],
   "source": [
    "# Drop column 'WHAT IT DOES'\n",
    "df_combined = df_combined.drop('What it does', axis = 1)\n"
   ]
  },
  {
   "cell_type": "code",
   "execution_count": 23,
   "id": "58bf7424",
   "metadata": {},
   "outputs": [
    {
     "data": {
      "text/plain": [
       "0"
      ]
     },
     "execution_count": 23,
     "metadata": {},
     "output_type": "execute_result"
    }
   ],
   "source": [
    "# Checking Company/Brand for missing data\n",
    "df_combined['Company/Brand'].isnull().sum()"
   ]
  },
  {
   "cell_type": "code",
   "execution_count": 24,
   "id": "b0c5f5bc",
   "metadata": {},
   "outputs": [
    {
     "data": {
      "text/plain": [
       "0.6252170892671066"
      ]
     },
     "execution_count": 24,
     "metadata": {},
     "output_type": "execute_result"
    }
   ],
   "source": [
    "#Checking for missing data in Sector\n",
    "percent_sector =(df_combined['Sector'].isnull().sum()/2879 )*100\n",
    "percent_sector"
   ]
  },
  {
   "cell_type": "code",
   "execution_count": 25,
   "id": "69d45ce4",
   "metadata": {},
   "outputs": [],
   "source": [
    "df_combined=df_combined.dropna(subset='Sector')"
   ]
  },
  {
   "cell_type": "code",
   "execution_count": 26,
   "id": "b37f7baf",
   "metadata": {},
   "outputs": [
    {
     "data": {
      "text/plain": [
       "0"
      ]
     },
     "execution_count": 26,
     "metadata": {},
     "output_type": "execute_result"
    }
   ],
   "source": [
    "df_combined['Sector'].isnull().sum()"
   ]
  },
  {
   "cell_type": "code",
   "execution_count": 27,
   "id": "96d4408d",
   "metadata": {},
   "outputs": [
    {
     "data": {
      "text/plain": [
       "32.33761722820424"
      ]
     },
     "execution_count": 27,
     "metadata": {},
     "output_type": "execute_result"
    }
   ],
   "source": [
    "#Checking for null values column Stage\n",
    "percent_stage =(df_combined['Stage'].isnull().sum()/2879 )*100\n",
    "percent_stage\n"
   ]
  },
  {
   "cell_type": "code",
   "execution_count": 28,
   "id": "8b791845",
   "metadata": {},
   "outputs": [],
   "source": [
    "# Since the percentage of null value is high we would fill it with undisclosed \n",
    "df_combined['Stage'].fillna(\"Undisclosed\",inplace=True)"
   ]
  },
  {
   "cell_type": "code",
   "execution_count": 29,
   "id": "1cbf39fb",
   "metadata": {},
   "outputs": [
    {
     "data": {
      "text/plain": [
       "0"
      ]
     },
     "execution_count": 29,
     "metadata": {},
     "output_type": "execute_result"
    }
   ],
   "source": [
    "df_combined['Stage'].isnull().sum()"
   ]
  },
  {
   "cell_type": "code",
   "execution_count": 30,
   "id": "ca231e23",
   "metadata": {},
   "outputs": [
    {
     "data": {
      "text/plain": [
       "0            3949\n",
       "1          631946\n",
       "2         1026913\n",
       "3           31597\n",
       "4           25277\n",
       "          ...    \n",
       "2667     $3000000\n",
       "2668    $20000000\n",
       "2669    $55000000\n",
       "2670    $26000000\n",
       "2671     $8000000\n",
       "Name: Amount($), Length: 2654, dtype: object"
      ]
     },
     "execution_count": 30,
     "metadata": {},
     "output_type": "execute_result"
    }
   ],
   "source": [
    "# exploring the Amount column\n",
    "df_combined['Amount($)']"
   ]
  },
  {
   "cell_type": "code",
   "execution_count": 31,
   "id": "894bddf4",
   "metadata": {},
   "outputs": [
    {
     "data": {
      "text/plain": [
       "array(['3949', '631946', '1026913', '31597', '25277', '252778', '789933',\n",
       "       '1579866', '2369', '17378', '7899', '94791', '10269', '552953',\n",
       "       '1011114', '315973', '15798', '78993', '63194', '473959', '44236',\n",
       "       '26857', '20538', '197483', '236979', '1643060', '710939',\n",
       "       '211702', '394966', '417084', '126389', '947', '142187', '1579',\n",
       "       '315', '1895', '537154', '5403142', '9479197', '15798661',\n",
       "       '31597323', '3949665', '8689264', '3791678', '1895839', '39496654',\n",
       "       '695141', '947919', '10269130', '25277858', '1105906', '1619362',\n",
       "       '18958', '82153041', '22118', '34757', '28437', '56875', '150087',\n",
       "       '4739', '107904', '3159', '2369799', '67934', '5764', '6319',\n",
       "       '23697', '110590', '157986', '355469', '208542', '789', '2214972',\n",
       "       '47395', '19748', '2843', '303334', '1627262', '66354', '2764',\n",
       "       '22908', '71093', '9479', '262257', '189583', '521355', '1974',\n",
       "       '2053', '551373', '1137503', '271736', '505557', '55295',\n",
       "       '2132819', '24329939', '2211812', '22276113', '9163223', '568751',\n",
       "       '5371545', '8057317', '34757056', '347570', '1105', '243173003',\n",
       "       '315973237', '63194647', '2922752', '2606779', '11059', '3317718',\n",
       "       '32064964', '1184899', '1263892', '27805', '42656', '4423625',\n",
       "       '12638929', '11848', '39496', '11533023', '6319464', '58455',\n",
       "       '88472', '4107652', '1567701', '631', '8689', '5766511', '138238',\n",
       "       '1232295', '442362', '4170846', '17852487', '12796916', '22118126',\n",
       "       '235400', '3554698', '118', '$6,300,000', '$150,000,000',\n",
       "       '$28,000,000', '$30,000,000', '$6,000,000', 'Undisclosed',\n",
       "       '$1,000,000', '$20,000,000', '$275,000,000', '$22,000,000',\n",
       "       '$5,000,000', '$140,500', '$540,000,000', '$15,000,000',\n",
       "       '$182,700', '$12,000,000', '$11,000,000', '$15,500,000',\n",
       "       '$1,500,000', '$5,500,000', '$2,500,000', '$140,000',\n",
       "       '$230,000,000', '$49,400,000', '$32,000,000', '$26,000,000',\n",
       "       '$150,000', '$400,000', '$2,000,000', '$8,000,000', '$100,000',\n",
       "       '$50,000,000', '$120,000,000', '$4,000,000', '$6,800,000',\n",
       "       '$36,000,000', '$5,700,000', '$25,000,000', '$600,000',\n",
       "       '$70,000,000', '$60,000,000', '$220,000', '$2,800,000',\n",
       "       '$2,100,000', '$7,000,000', '$311,000,000', '$4,800,000',\n",
       "       '$693,000,000', '$33,000,000', '$200,000', '$340,000',\n",
       "       '$45,000,000', '$1,200,000', '$660,000,000', '$120,000',\n",
       "       '$7,500,000', '$500,000', '$3,000,000', '$10,000,000',\n",
       "       '$145,000,000', '$100,000,000', nan, '$21,000,000', '$560,000',\n",
       "       '$275,000', '$4,500,000', '$390,000,000', '$5,100,000',\n",
       "       '$700,000,000', '$2,300,000', '$700,000', '$19,000,000',\n",
       "       '$9,000,000', '$40,000,000', '$750,000', '$7,800,000',\n",
       "       '$80,000,000', '$1,700,000', '$40,000', '$35,000,000', '$300,000',\n",
       "       '$3,500,000', '$200,000,000', '$1,300,000', '$4,100,000',\n",
       "       '$575,000', '$800,000', '$18,000,000', '$3,200,000', '$900,000',\n",
       "       '$250,000', '$4,700,000', '$75,000,000', '$121,000,000',\n",
       "       '$55,000,000', '$3,300,000', '$16,000,000', '$5,400,000',\n",
       "       '$4,200,000', '$52,000,000', '$1,100,000', '$118,000,000',\n",
       "       '$1,600,000', '$18,500,000', '$70,000,000,000', '$800,000,000',\n",
       "       '$400,000,000', '$176,000,000', '$470,000', '$240,000',\n",
       "       '$3,000,000,000', '$74,000,000', '$62,000,000', '$500,000,000',\n",
       "       '$12,500,000', '$2,200,000,000', '$5,060,000', '$225,000,000',\n",
       "       '$24,700,000', '$7,700,000', '$1,90,67,328', '$51,000,000',\n",
       "       '$115,000', '$54,000', '$20,000', '$803,146', '$238,000',\n",
       "       '$10,220,000', '$1,020,000', '$13,400,000', '$170,000,000',\n",
       "       '$2,900,000', '$543,000', '$90,000,000', '$3,400,000',\n",
       "       '$23,000,000', '$8,090,000', '$1,030,000', '$5,040,000',\n",
       "       '$360,000', '$1,400,000', '$650,000', '$54,000,000', '$42,500,000',\n",
       "       '$11,370,000', '$325,000', '$410,000', '$450,000', '$682,000',\n",
       "       '$4,050,000', '$1,050,000', '$1,080,000', '$4,300,000',\n",
       "       '$2,110,000', '$887,000, $23,000,000', '$764,000', '$603,000',\n",
       "       '$409,000', '$292,000', '$286,000', '$136,000',\n",
       "       '$800,000,000 to $850,000,000', '$546,000', '$887,000', '$43,000',\n",
       "       '$40,900', '$2,200,000', '$5,660,000', '$350,000', '$110,000',\n",
       "       '$122,000,000', '$11,635,000', '$1,065,000', '$669,000',\n",
       "       '$16,076,000', '$6,700,000', '$266,500', '$2,879,000',\n",
       "       '$26,500,000', '$351,000', '$ 8,700,000', '$46,761,000',\n",
       "       '$175,000', '9.600,000', '$11,241,000', '$804,000', '$1,340,000',\n",
       "       '$467,000', '$133,000', '$3,823,000', '$934,000', '$293,000',\n",
       "       '$198,000', '$927,000', '$971,000', '$3,060,000', '$1,862,000',\n",
       "       '$232,000', '$2,888,000', '$1,328,000', '$56,000,000',\n",
       "       '$2,250,000', '$16,753,000', '$3,700,000', '$1,470,000',\n",
       "       '$530,000', '$267,000', '$3,344,000', '$7,200,000', '$2,743,000',\n",
       "       '$6,082,000', '$6,609,000', '$27,700,000', '$5,940,000',\n",
       "       '$3,964,000', '$197,000', '$4,327,000', '$459,000', '$3,937,000',\n",
       "       '$1,313,500', '$229,800', '$5,305,000', '$264,000', '$1,750,000',\n",
       "       '$5,967,000', '$2,980,000', 'Undiclsosed', '$323,000',\n",
       "       '$1,326,000', '$27,000,000', '$5,200,000', '$2,530,000',\n",
       "       '$792,000', '$11,363,000', '$1,715,000', '$329,000', '$5,271,000',\n",
       "       '$8,700,000', '$3,226,000', '$5,900,000', '$44,000,000',\n",
       "       '$13,000,000', '$8,800,000', '$9,500,000', '$920,000',\n",
       "       '$35,600,000', '$9,400,000', '$790,000', '$480,000', '$160,000',\n",
       "       '$8,200,000', '$4,257,000', '$1,410,000', '$349,800', '$786,000',\n",
       "       '$2,004,000', '$123,000,000', '$248,000', '$24,000,000',\n",
       "       '$14,259,000', '$24,500,000', '$3,800,000', '$18,370,000',\n",
       "       '$68,525,000', '$1,834,000', '$23,850,000', '$43,000,000',\n",
       "       '$21,600,000', '$4,598,000', '$13,137,000', '$115,000,000',\n",
       "       '$3,900,000', '$670,000', '42.23,000', '$8,500,000', '$3,148,000',\n",
       "       '$2,600,000', '25,58,000', '$4,049,500', '$10,500,000',\n",
       "       '$6,500,000', '$43,700,000', '$13,800,000', '$306,900', '$420,000',\n",
       "       '$627,300', '$113,000,000', '$110,000,000', '$1,397,000',\n",
       "       '$448,500', '$7,975,700', '$330,000', '$5,600,000', '$1,402,000',\n",
       "       '$21,500,000', '$296,000,000', '$4,900,000', '$1,402,400',\n",
       "       '$12,618,300', '$9,900,000', '$982,530', '$70,185,200',\n",
       "       '$210,000,000', '$84,000,000', '$39,000,000', '$2,700,000',\n",
       "       '$1,403,400', '$105,000,000', '$103,000,000', '$281,300',\n",
       "       '$12,700', '$25,000', '$97,500,000', '$507,000', '$8,400,000',\n",
       "       '$18,300,000', '$125,000,000', '$181,000', '$280,000',\n",
       "       '$14,700,000', '$13,200,000', '$8,043,000', '$188,000,000',\n",
       "       '$49,000,000', '$160,000,000', '$1,800,000', '$850,000',\n",
       "       '$53,000,000', '$7,400,000', '$17,000,000', '$215,000,000',\n",
       "       '$350,000,000', '$83,000,000', '$65,000,000', '$150,000,000,000',\n",
       "       '$300,000,000', '$140,000,000', '$Undisclosed', '$2000000',\n",
       "       '$800000', '$6000000', '$2500000', '$9500000', '$13000000',\n",
       "       '$5000000', '$8000000', '$1000000', 'Upsparks', '$200000',\n",
       "       '$12000000', '$1500000', '$1700000', '$5500000', '$400000',\n",
       "       '$150000000', '$4000000', '$100000000', '$500000', '$15000000',\n",
       "       '$10000000', '$40000000', '$225000000', '$6700000', '$1300000',\n",
       "       '$20000000', '$250000', '$21000000', '$1200000', '$52000000',\n",
       "       '$3800000', '$17500000', '$42000000', '$2300000', '$7000000',\n",
       "       '$30000000', '$450000000', '$28000000', '$300000', '$3500000',\n",
       "       '$8500000', '$25000000', '$3000000', '$37000000', '$370000000',\n",
       "       '$700000', '$16000000', '$100000', '$44000000', '$770000',\n",
       "       '$125000000', '$35000000', '$50000000', '$4900000', '$145000000',\n",
       "       '$22000000', '$70000000', '$6600000', '$32000000', '$24000000',\n",
       "       '$725000', '$461000', 'Series C', 'Seed', '$96000000', '$60000000',\n",
       "       '$500000000', '$266000000', '$4500000', '$325000000', '$6500000',\n",
       "       '$1600000', '$225000', '$85000000', '$235000', '$260000',\n",
       "       '$2900000', '$53000000', '$1100000', '$150000', '$86000000',\n",
       "       '$130000', '$$100,00', '$111000000', '$265000', '$76000000',\n",
       "       '$260,000', '$1,000,000,000', '$95,000,000', '$14,300,000',\n",
       "       '$81,000,000', '$280,000,000', '$720,000', '$600000', '$9000000',\n",
       "       '$1800000', '$330000', '$undisclosed', '$200000000', '$36000000',\n",
       "       '$67000000', '$10200000', '$220000000', '$108000000', '$75000000',\n",
       "       '$450000', '$660000000', 'ah! Ventures', '$45000000', '$3200000',\n",
       "       '$370000', 'Pre-series A', 'ITO Angel Network, LetsVenture',\n",
       "       '$48000000', '$3600000', '$11000000', '$192000000', '$65000000',\n",
       "       '$1400000', '$1900000', '$41000000', '$144000000', '$5200000',\n",
       "       '$270000000', '$140000', '$250000000', '$320000', '$350000000',\n",
       "       '$4800000', '$38000000', '$125000', '$26000000', '$64000000',\n",
       "       '$620000', '$900000', 'JITO Angel Network, LetsVenture',\n",
       "       '$2600000', '$1,250,000', '$234,000,000', '$460,000,000',\n",
       "       '$13,500,000', '$195,000,000', '$125,000', '$7,300,000',\n",
       "       '$16,500,000', '$3300000', '$92000000', '$17000000', '$135000000',\n",
       "       '$$1,55,000', '$2100000', '$840000000', '$248000000', '$4300000',\n",
       "       '$570000', '$2200000', '$4700000', '$300000000', '$260000000',\n",
       "       '$140000000', '$175000000', '$19000000', '$810000', '$7500000',\n",
       "       '$600000000', '$90000000', '$5700000', '$6750000', '$78000000',\n",
       "       '$5400000', '$115000000', '$255000000', '$18000000', '$570000000',\n",
       "       '$550000', '$2700000', '$4200000', '$31000000', '$540000',\n",
       "       '$14000000', '$340000', '$', '$6200000', '$750000', '$6300000',\n",
       "       '$23000000', '$55000000'], dtype=object)"
      ]
     },
     "execution_count": 31,
     "metadata": {},
     "output_type": "execute_result"
    }
   ],
   "source": [
    "df_combined['Amount($)'].unique()"
   ]
  },
  {
   "cell_type": "code",
   "execution_count": 32,
   "id": "a5017301",
   "metadata": {},
   "outputs": [
    {
     "name": "stderr",
     "output_type": "stream",
     "text": [
      "C:\\Users\\Jamal\\AppData\\Local\\Temp\\ipykernel_9924\\1479491936.py:1: FutureWarning: The default value of regex will change from True to False in a future version. In addition, single character regular expressions will *not* be treated as literal strings when regex=True.\n",
      "  df_combined['Amount($)'] =df_combined['Amount($)'].str.replace('$','')\n"
     ]
    }
   ],
   "source": [
    "df_combined['Amount($)'] =df_combined['Amount($)'].str.replace('$','')\n",
    "df_combined['Amount($)'] =df_combined['Amount($)'].str.replace(',','')\n",
    "df_combined = df_combined[df_combined['Amount($)'].apply(lambda x: str(x).isdigit())]"
   ]
  },
  {
   "cell_type": "code",
   "execution_count": 33,
   "id": "03847c48",
   "metadata": {},
   "outputs": [],
   "source": [
    "df_combined['Amount($)'] = df_combined['Amount($)'].apply(int)\n"
   ]
  },
  {
   "cell_type": "code",
   "execution_count": 34,
   "id": "36e9f35e",
   "metadata": {},
   "outputs": [
    {
     "name": "stdout",
     "output_type": "stream",
     "text": [
      "<class 'pandas.core.frame.DataFrame'>\n",
      "Int64Index: 2238 entries, 0 to 2671\n",
      "Data columns (total 8 columns):\n",
      " #   Column         Non-Null Count  Dtype \n",
      "---  ------         --------------  ----- \n",
      " 0   Company/Brand  2238 non-null   object\n",
      " 1   Sector         2238 non-null   object\n",
      " 2   Stage          2238 non-null   object\n",
      " 3   Amount($)      2238 non-null   int64 \n",
      " 4   HeadQuarter    2147 non-null   object\n",
      " 5   Founded        1755 non-null   object\n",
      " 6   Founders       1906 non-null   object\n",
      " 7   Investor       1837 non-null   object\n",
      "dtypes: int64(1), object(7)\n",
      "memory usage: 157.4+ KB\n"
     ]
    }
   ],
   "source": [
    "df_combined.info()"
   ]
  },
  {
   "cell_type": "code",
   "execution_count": 35,
   "id": "53838aaf",
   "metadata": {},
   "outputs": [
    {
     "data": {
      "text/plain": [
       "0          NaN\n",
       "1          NaN\n",
       "2          NaN\n",
       "3          NaN\n",
       "4          NaN\n",
       "         ...  \n",
       "2667    2019.0\n",
       "2668    2015.0\n",
       "2669    2019.0\n",
       "2670    2015.0\n",
       "2671    2019.0\n",
       "Name: Founded, Length: 2238, dtype: object"
      ]
     },
     "execution_count": 35,
     "metadata": {},
     "output_type": "execute_result"
    }
   ],
   "source": [
    "#Explore Founded column\n",
    "df_combined['Founded'] "
   ]
  },
  {
   "cell_type": "code",
   "execution_count": 36,
   "id": "058c6e03",
   "metadata": {},
   "outputs": [
    {
     "data": {
      "text/plain": [
       "16.776658562000694"
      ]
     },
     "execution_count": 36,
     "metadata": {},
     "output_type": "execute_result"
    }
   ],
   "source": [
    "percent_founded =(df_combined['Founded'].isnull().sum()/2879 )*100\n",
    "percent_founded"
   ]
  },
  {
   "cell_type": "code",
   "execution_count": 37,
   "id": "0fec4025",
   "metadata": {},
   "outputs": [],
   "source": [
    "#Founded contains to many errors and not part of our questions, so would be dropping\n",
    "df_combined = df_combined.drop('Founded', axis = 1)"
   ]
  },
  {
   "cell_type": "code",
   "execution_count": 38,
   "id": "9fc4785b",
   "metadata": {},
   "outputs": [
    {
     "data": {
      "text/plain": [
       "3.160819729072595"
      ]
     },
     "execution_count": 38,
     "metadata": {},
     "output_type": "execute_result"
    }
   ],
   "source": [
    "#Exploring Headquaters\n",
    "percent_hq =(df_combined['HeadQuarter'].isnull().sum()/2879 )*100\n",
    "percent_hq"
   ]
  },
  {
   "cell_type": "code",
   "execution_count": 39,
   "id": "45f0e980",
   "metadata": {},
   "outputs": [
    {
     "data": {
      "text/html": [
       "<div>\n",
       "<style scoped>\n",
       "    .dataframe tbody tr th:only-of-type {\n",
       "        vertical-align: middle;\n",
       "    }\n",
       "\n",
       "    .dataframe tbody tr th {\n",
       "        vertical-align: top;\n",
       "    }\n",
       "\n",
       "    .dataframe thead th {\n",
       "        text-align: right;\n",
       "    }\n",
       "</style>\n",
       "<table border=\"1\" class=\"dataframe\">\n",
       "  <thead>\n",
       "    <tr style=\"text-align: right;\">\n",
       "      <th></th>\n",
       "      <th>Company/Brand</th>\n",
       "      <th>Sector</th>\n",
       "      <th>Stage</th>\n",
       "      <th>Amount($)</th>\n",
       "      <th>HeadQuarter</th>\n",
       "      <th>Founders</th>\n",
       "      <th>Investor</th>\n",
       "    </tr>\n",
       "  </thead>\n",
       "  <tbody>\n",
       "    <tr>\n",
       "      <th>0</th>\n",
       "      <td>TheCollegeFever</td>\n",
       "      <td>Brand Marketing, Event Promotion, Marketing, S...</td>\n",
       "      <td>Seed</td>\n",
       "      <td>3949</td>\n",
       "      <td>Bangalore, Karnataka, India</td>\n",
       "      <td>NaN</td>\n",
       "      <td>NaN</td>\n",
       "    </tr>\n",
       "    <tr>\n",
       "      <th>1</th>\n",
       "      <td>Happy Cow Dairy</td>\n",
       "      <td>Agriculture, Farming</td>\n",
       "      <td>Seed</td>\n",
       "      <td>631946</td>\n",
       "      <td>Mumbai, Maharashtra, India</td>\n",
       "      <td>NaN</td>\n",
       "      <td>NaN</td>\n",
       "    </tr>\n",
       "    <tr>\n",
       "      <th>2</th>\n",
       "      <td>MyLoanCare</td>\n",
       "      <td>Credit, Financial Services, Lending, Marketplace</td>\n",
       "      <td>Series A</td>\n",
       "      <td>1026913</td>\n",
       "      <td>Gurgaon, Haryana, India</td>\n",
       "      <td>NaN</td>\n",
       "      <td>NaN</td>\n",
       "    </tr>\n",
       "    <tr>\n",
       "      <th>3</th>\n",
       "      <td>PayMe India</td>\n",
       "      <td>Financial Services, FinTech</td>\n",
       "      <td>Angel</td>\n",
       "      <td>31597</td>\n",
       "      <td>Noida, Uttar Pradesh, India</td>\n",
       "      <td>NaN</td>\n",
       "      <td>NaN</td>\n",
       "    </tr>\n",
       "    <tr>\n",
       "      <th>4</th>\n",
       "      <td>Hasura</td>\n",
       "      <td>Cloud Infrastructure, PaaS, SaaS</td>\n",
       "      <td>Seed</td>\n",
       "      <td>25277</td>\n",
       "      <td>Bengaluru, Karnataka, India</td>\n",
       "      <td>NaN</td>\n",
       "      <td>NaN</td>\n",
       "    </tr>\n",
       "    <tr>\n",
       "      <th>...</th>\n",
       "      <td>...</td>\n",
       "      <td>...</td>\n",
       "      <td>...</td>\n",
       "      <td>...</td>\n",
       "      <td>...</td>\n",
       "      <td>...</td>\n",
       "      <td>...</td>\n",
       "    </tr>\n",
       "    <tr>\n",
       "      <th>2667</th>\n",
       "      <td>Gigforce</td>\n",
       "      <td>Staffing &amp; Recruiting</td>\n",
       "      <td>Pre-series A</td>\n",
       "      <td>3000000</td>\n",
       "      <td>Gurugram</td>\n",
       "      <td>Chirag Mittal, Anirudh Syal</td>\n",
       "      <td>Endiya Partners</td>\n",
       "    </tr>\n",
       "    <tr>\n",
       "      <th>2668</th>\n",
       "      <td>Vahdam</td>\n",
       "      <td>Food &amp; Beverages</td>\n",
       "      <td>Series D</td>\n",
       "      <td>20000000</td>\n",
       "      <td>New Delhi</td>\n",
       "      <td>Bala Sarda</td>\n",
       "      <td>IIFL AMC</td>\n",
       "    </tr>\n",
       "    <tr>\n",
       "      <th>2669</th>\n",
       "      <td>Leap Finance</td>\n",
       "      <td>Financial Services</td>\n",
       "      <td>Series C</td>\n",
       "      <td>55000000</td>\n",
       "      <td>Bangalore</td>\n",
       "      <td>Arnav Kumar, Vaibhav Singh</td>\n",
       "      <td>Owl Ventures</td>\n",
       "    </tr>\n",
       "    <tr>\n",
       "      <th>2670</th>\n",
       "      <td>CollegeDekho</td>\n",
       "      <td>EdTech</td>\n",
       "      <td>Series B</td>\n",
       "      <td>26000000</td>\n",
       "      <td>Gurugram</td>\n",
       "      <td>Ruchir Arora</td>\n",
       "      <td>Winter Capital, ETS, Man Capital</td>\n",
       "    </tr>\n",
       "    <tr>\n",
       "      <th>2671</th>\n",
       "      <td>WeRize</td>\n",
       "      <td>Financial Services</td>\n",
       "      <td>Series A</td>\n",
       "      <td>8000000</td>\n",
       "      <td>Bangalore</td>\n",
       "      <td>Vishal Chopra, Himanshu Gupta</td>\n",
       "      <td>3one4 Capital, Kalaari Capital</td>\n",
       "    </tr>\n",
       "  </tbody>\n",
       "</table>\n",
       "<p>2147 rows × 7 columns</p>\n",
       "</div>"
      ],
      "text/plain": [
       "        Company/Brand                                             Sector  \\\n",
       "0     TheCollegeFever  Brand Marketing, Event Promotion, Marketing, S...   \n",
       "1     Happy Cow Dairy                               Agriculture, Farming   \n",
       "2          MyLoanCare   Credit, Financial Services, Lending, Marketplace   \n",
       "3         PayMe India                        Financial Services, FinTech   \n",
       "4              Hasura                   Cloud Infrastructure, PaaS, SaaS   \n",
       "...               ...                                                ...   \n",
       "2667         Gigforce                              Staffing & Recruiting   \n",
       "2668           Vahdam                                   Food & Beverages   \n",
       "2669     Leap Finance                                 Financial Services   \n",
       "2670     CollegeDekho                                             EdTech   \n",
       "2671           WeRize                                 Financial Services   \n",
       "\n",
       "             Stage  Amount($)                  HeadQuarter  \\\n",
       "0             Seed       3949  Bangalore, Karnataka, India   \n",
       "1             Seed     631946   Mumbai, Maharashtra, India   \n",
       "2         Series A    1026913      Gurgaon, Haryana, India   \n",
       "3            Angel      31597  Noida, Uttar Pradesh, India   \n",
       "4             Seed      25277  Bengaluru, Karnataka, India   \n",
       "...            ...        ...                          ...   \n",
       "2667  Pre-series A    3000000                     Gurugram   \n",
       "2668      Series D   20000000                    New Delhi   \n",
       "2669      Series C   55000000                    Bangalore   \n",
       "2670      Series B   26000000                     Gurugram   \n",
       "2671      Series A    8000000                    Bangalore   \n",
       "\n",
       "                           Founders                          Investor  \n",
       "0                               NaN                               NaN  \n",
       "1                               NaN                               NaN  \n",
       "2                               NaN                               NaN  \n",
       "3                               NaN                               NaN  \n",
       "4                               NaN                               NaN  \n",
       "...                             ...                               ...  \n",
       "2667    Chirag Mittal, Anirudh Syal                   Endiya Partners  \n",
       "2668                     Bala Sarda                          IIFL AMC  \n",
       "2669     Arnav Kumar, Vaibhav Singh                      Owl Ventures  \n",
       "2670                   Ruchir Arora  Winter Capital, ETS, Man Capital  \n",
       "2671  Vishal Chopra, Himanshu Gupta    3one4 Capital, Kalaari Capital  \n",
       "\n",
       "[2147 rows x 7 columns]"
      ]
     },
     "execution_count": 39,
     "metadata": {},
     "output_type": "execute_result"
    }
   ],
   "source": [
    "df_new=df_combined.dropna(subset='HeadQuarter')\n",
    "df_new\n",
    "\n"
   ]
  },
  {
   "cell_type": "code",
   "execution_count": 40,
   "id": "510c3e70",
   "metadata": {},
   "outputs": [
    {
     "name": "stderr",
     "output_type": "stream",
     "text": [
      "C:\\Users\\Jamal\\AppData\\Local\\Temp\\ipykernel_9924\\915160569.py:3: SettingWithCopyWarning: \n",
      "A value is trying to be set on a copy of a slice from a DataFrame.\n",
      "Try using .loc[row_indexer,col_indexer] = value instead\n",
      "\n",
      "See the caveats in the documentation: https://pandas.pydata.org/pandas-docs/stable/user_guide/indexing.html#returning-a-view-versus-a-copy\n",
      "  df_new['HeadQuarter'] = df_new['HeadQuarter'].replace([x],e[0])\n"
     ]
    }
   ],
   "source": [
    "for x in df_new['HeadQuarter']:\n",
    "    e =x.split(',',1)\n",
    "    df_new['HeadQuarter'] = df_new['HeadQuarter'].replace([x],e[0])\n",
    "\n"
   ]
  },
  {
   "cell_type": "code",
   "execution_count": 41,
   "id": "806f40c0",
   "metadata": {},
   "outputs": [
    {
     "data": {
      "text/plain": [
       "0     Bangalore\n",
       "1        Mumbai\n",
       "2       Gurgaon\n",
       "3         Noida\n",
       "4     Bengaluru\n",
       "5       Kalkaji\n",
       "6     Hyderabad\n",
       "7     Bengaluru\n",
       "8        Mumbai\n",
       "9     Bengaluru\n",
       "10      Chennai\n",
       "11       Mumbai\n",
       "12       Mumbai\n",
       "13    New Delhi\n",
       "14        Delhi\n",
       "15      Chennai\n",
       "16       Mumbai\n",
       "17       Mumbai\n",
       "18    New Delhi\n",
       "19      Kolkata\n",
       "20    Bengaluru\n",
       "21       Mumbai\n",
       "22    Bengaluru\n",
       "23       Mumbai\n",
       "24    New Delhi\n",
       "25       Mumbai\n",
       "26      Chennai\n",
       "27    Hyderabad\n",
       "28        India\n",
       "29       Mumbai\n",
       "30    New Delhi\n",
       "31    Bangalore\n",
       "32       Mumbai\n",
       "33      Jodhpur\n",
       "34      Chennai\n",
       "35       Kanpur\n",
       "36    Bengaluru\n",
       "37    Hyderabad\n",
       "38    New Delhi\n",
       "39      Kolkata\n",
       "40       Mumbai\n",
       "41    New Delhi\n",
       "42       Mumbai\n",
       "43        India\n",
       "44    Bangalore\n",
       "45    Hyderabad\n",
       "46    Bangalore\n",
       "47         Pune\n",
       "48    Ahmedabad\n",
       "49    Bangalore\n",
       "Name: HeadQuarter, dtype: object"
      ]
     },
     "execution_count": 41,
     "metadata": {},
     "output_type": "execute_result"
    }
   ],
   "source": [
    "df_new['HeadQuarter'].head(50)"
   ]
  },
  {
   "cell_type": "code",
   "execution_count": 42,
   "id": "f04e9077",
   "metadata": {},
   "outputs": [
    {
     "name": "stderr",
     "output_type": "stream",
     "text": [
      "C:\\Users\\Jamal\\AppData\\Local\\Temp\\ipykernel_9924\\300076971.py:6: SettingWithCopyWarning: \n",
      "A value is trying to be set on a copy of a slice from a DataFrame.\n",
      "Try using .loc[row_indexer,col_indexer] = value instead\n",
      "\n",
      "See the caveats in the documentation: https://pandas.pydata.org/pandas-docs/stable/user_guide/indexing.html#returning-a-view-versus-a-copy\n",
      "  df_new['HeadQuarter'] = df_new['HeadQuarter'].replace([x],x)\n",
      "C:\\Users\\Jamal\\AppData\\Local\\Temp\\ipykernel_9924\\300076971.py:4: SettingWithCopyWarning: \n",
      "A value is trying to be set on a copy of a slice from a DataFrame.\n",
      "Try using .loc[row_indexer,col_indexer] = value instead\n",
      "\n",
      "See the caveats in the documentation: https://pandas.pydata.org/pandas-docs/stable/user_guide/indexing.html#returning-a-view-versus-a-copy\n",
      "  df_new['HeadQuarter'] = df_new['HeadQuarter'].replace([\"India\"],\"Bangalore\")\n"
     ]
    }
   ],
   "source": [
    "for x in df_new['HeadQuarter']:\n",
    "    e =x.split(',',1)\n",
    "    if(x == 'India'):\n",
    "        df_new['HeadQuarter'] = df_new['HeadQuarter'].replace([\"India\"],\"Bangalore\")\n",
    "\n",
    "    df_new['HeadQuarter'] = df_new['HeadQuarter'].replace([x],x)"
   ]
  },
  {
   "cell_type": "code",
   "execution_count": 43,
   "id": "a9ac40f1",
   "metadata": {},
   "outputs": [
    {
     "data": {
      "text/plain": [
       "0     Bangalore\n",
       "1        Mumbai\n",
       "2       Gurgaon\n",
       "3         Noida\n",
       "4     Bengaluru\n",
       "5       Kalkaji\n",
       "6     Hyderabad\n",
       "7     Bengaluru\n",
       "8        Mumbai\n",
       "9     Bengaluru\n",
       "10      Chennai\n",
       "11       Mumbai\n",
       "12       Mumbai\n",
       "13    New Delhi\n",
       "14        Delhi\n",
       "15      Chennai\n",
       "16       Mumbai\n",
       "17       Mumbai\n",
       "18    New Delhi\n",
       "19      Kolkata\n",
       "20    Bengaluru\n",
       "21       Mumbai\n",
       "22    Bengaluru\n",
       "23       Mumbai\n",
       "24    New Delhi\n",
       "25       Mumbai\n",
       "26      Chennai\n",
       "27    Hyderabad\n",
       "28    Bangalore\n",
       "29       Mumbai\n",
       "30    New Delhi\n",
       "31    Bangalore\n",
       "32       Mumbai\n",
       "33      Jodhpur\n",
       "34      Chennai\n",
       "35       Kanpur\n",
       "36    Bengaluru\n",
       "37    Hyderabad\n",
       "38    New Delhi\n",
       "39      Kolkata\n",
       "40       Mumbai\n",
       "41    New Delhi\n",
       "42       Mumbai\n",
       "43    Bangalore\n",
       "44    Bangalore\n",
       "45    Hyderabad\n",
       "46    Bangalore\n",
       "47         Pune\n",
       "48    Ahmedabad\n",
       "49    Bangalore\n",
       "Name: HeadQuarter, dtype: object"
      ]
     },
     "execution_count": 43,
     "metadata": {},
     "output_type": "execute_result"
    }
   ],
   "source": [
    "df_new['HeadQuarter'].head(50)"
   ]
  },
  {
   "cell_type": "code",
   "execution_count": 44,
   "id": "740e7042",
   "metadata": {},
   "outputs": [
    {
     "name": "stdout",
     "output_type": "stream",
     "text": [
      "<class 'pandas.core.frame.DataFrame'>\n",
      "Int64Index: 2147 entries, 0 to 2671\n",
      "Data columns (total 7 columns):\n",
      " #   Column         Non-Null Count  Dtype \n",
      "---  ------         --------------  ----- \n",
      " 0   Company/Brand  2147 non-null   object\n",
      " 1   Sector         2147 non-null   object\n",
      " 2   Stage          2147 non-null   object\n",
      " 3   Amount($)      2147 non-null   int64 \n",
      " 4   HeadQuarter    2147 non-null   object\n",
      " 5   Founders       1817 non-null   object\n",
      " 6   Investor       1746 non-null   object\n",
      "dtypes: int64(1), object(6)\n",
      "memory usage: 134.2+ KB\n"
     ]
    }
   ],
   "source": [
    "df_new.info()"
   ]
  },
  {
   "cell_type": "code",
   "execution_count": null,
   "id": "a6553802",
   "metadata": {},
   "outputs": [],
   "source": []
  }
 ],
 "metadata": {
  "kernelspec": {
   "display_name": "Python 3 (ipykernel)",
   "language": "python",
   "name": "python3"
  },
  "language_info": {
   "codemirror_mode": {
    "name": "ipython",
    "version": 3
   },
   "file_extension": ".py",
   "mimetype": "text/x-python",
   "name": "python",
   "nbconvert_exporter": "python",
   "pygments_lexer": "ipython3",
   "version": "3.11.2"
  }
 },
 "nbformat": 4,
 "nbformat_minor": 5
}
